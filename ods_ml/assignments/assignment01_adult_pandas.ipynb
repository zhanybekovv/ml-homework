{
 "cells": [
  {
   "cell_type": "markdown",
   "metadata": {},
   "source": [
    "<center>\n",
    "<img src=\"../../img/ods_stickers.jpg\">\n",
    "## Открытый курс по машинному обучению\n",
    "<center>\n",
    "Автор материала: Юрий Кашницкий, программист-исследователь Mail.Ru Group <br> \n",
    "\n",
    "Материал распространяется на условиях лицензии [Creative Commons CC BY-NC-SA 4.0](https://creativecommons.org/licenses/by-nc-sa/4.0/). Можно использовать в любых целях (редактировать, поправлять и брать за основу), кроме коммерческих, но с обязательным упоминанием автора материала."
   ]
  },
  {
   "cell_type": "markdown",
   "metadata": {},
   "source": [
    "# <center>Домашнее задание № 1 (демо).<br> Анализ данных по доходу населения UCI Adult</center>"
   ]
  },
  {
   "cell_type": "markdown",
   "metadata": {},
   "source": [
    "**В задании предлагается с помощью Pandas ответить на несколько вопросов по данным репозитория UCI [Adult](https://archive.ics.uci.edu/ml/datasets/Adult) (качать данные не надо – они уже есть в репозитории). Для отправки решений используйте [онлайн-форму](https://docs.google.com/forms/d/1xAzU-5N6oEeR4UG8G44V6XL-Kbr4WYcPBG45Kijge2Y).**"
   ]
  },
  {
   "cell_type": "markdown",
   "metadata": {},
   "source": [
    "Уникальные значения признаков (больше информации по ссылке выше):\n",
    "- age: continuous.\n",
    "- workclass: Private, Self-emp-not-inc, Self-emp-inc, Federal-gov, Local-gov, State-gov, Without-pay, Never-worked.\n",
    "- fnlwgt: continuous.\n",
    "- education: Bachelors, Some-college, 11th, HS-grad, Prof-school, Assoc-acdm, Assoc-voc, 9th, 7th-8th, 12th, Masters, 1st-4th, 10th, Doctorate, 5th-6th, Preschool.\n",
    "- education-num: continuous.\n",
    "- marital-status: Married-civ-spouse, Divorced, Never-married, Separated, Widowed, Married-spouse-absent, Married-AF-spouse.\n",
    "- occupation: Tech-support, Craft-repair, Other-service, Sales, Exec-managerial, Prof-specialty, Handlers-cleaners, Machine-op-inspct, Adm-clerical, Farming-fishing, Transport-moving, Priv-house-serv, Protective-serv, Armed-Forces.\n",
    "- relationship: Wife, Own-child, Husband, Not-in-family, Other-relative, Unmarried.\n",
    "- race: White, Asian-Pac-Islander, Amer-Indian-Eskimo, Other, Black.\n",
    "- sex: Female, Male.\n",
    "- capital-gain: continuous.\n",
    "- capital-loss: continuous.\n",
    "- hours-per-week: continuous.\n",
    "- native-country: United-States, Cambodia, England, Puerto-Rico, Canada, Germany, Outlying-US(Guam-USVI-etc), India, Japan, Greece, South, China, Cuba, Iran, Honduras, Philippines, Italy, Poland, Jamaica, Vietnam, Mexico, Portugal, Ireland, France, Dominican-Republic, Laos, Ecuador, Taiwan, Haiti, Columbia, Hungary, Guatemala, Nicaragua, Scotland, Thailand, Yugoslavia, El-Salvador, Trinadad&Tobago, Peru, Hong, Holand-Netherlands.   \n",
    "- salary: >50K,<=50K"
   ]
  },
  {
   "cell_type": "code",
   "execution_count": 120,
   "metadata": {},
   "outputs": [],
   "source": [
    "import pandas as pd\n",
    "import numpy as np"
   ]
  },
  {
   "cell_type": "code",
   "execution_count": 121,
   "metadata": {},
   "outputs": [
    {
     "data": {
      "text/html": [
       "<div>\n",
       "<style scoped>\n",
       "    .dataframe tbody tr th:only-of-type {\n",
       "        vertical-align: middle;\n",
       "    }\n",
       "\n",
       "    .dataframe tbody tr th {\n",
       "        vertical-align: top;\n",
       "    }\n",
       "\n",
       "    .dataframe thead th {\n",
       "        text-align: right;\n",
       "    }\n",
       "</style>\n",
       "<table border=\"1\" class=\"dataframe\">\n",
       "  <thead>\n",
       "    <tr style=\"text-align: right;\">\n",
       "      <th></th>\n",
       "      <th>age</th>\n",
       "      <th>workclass</th>\n",
       "      <th>fnlwgt</th>\n",
       "      <th>education</th>\n",
       "      <th>education-num</th>\n",
       "      <th>marital-status</th>\n",
       "      <th>occupation</th>\n",
       "      <th>relationship</th>\n",
       "      <th>race</th>\n",
       "      <th>sex</th>\n",
       "      <th>capital-gain</th>\n",
       "      <th>capital-loss</th>\n",
       "      <th>hours-per-week</th>\n",
       "      <th>native-country</th>\n",
       "      <th>salary</th>\n",
       "    </tr>\n",
       "  </thead>\n",
       "  <tbody>\n",
       "    <tr>\n",
       "      <th>0</th>\n",
       "      <td>39</td>\n",
       "      <td>State-gov</td>\n",
       "      <td>77516</td>\n",
       "      <td>Bachelors</td>\n",
       "      <td>13</td>\n",
       "      <td>Never-married</td>\n",
       "      <td>Adm-clerical</td>\n",
       "      <td>Not-in-family</td>\n",
       "      <td>White</td>\n",
       "      <td>Male</td>\n",
       "      <td>2174</td>\n",
       "      <td>0</td>\n",
       "      <td>40</td>\n",
       "      <td>United-States</td>\n",
       "      <td>&lt;=50K</td>\n",
       "    </tr>\n",
       "    <tr>\n",
       "      <th>1</th>\n",
       "      <td>50</td>\n",
       "      <td>Self-emp-not-inc</td>\n",
       "      <td>83311</td>\n",
       "      <td>Bachelors</td>\n",
       "      <td>13</td>\n",
       "      <td>Married-civ-spouse</td>\n",
       "      <td>Exec-managerial</td>\n",
       "      <td>Husband</td>\n",
       "      <td>White</td>\n",
       "      <td>Male</td>\n",
       "      <td>0</td>\n",
       "      <td>0</td>\n",
       "      <td>13</td>\n",
       "      <td>United-States</td>\n",
       "      <td>&lt;=50K</td>\n",
       "    </tr>\n",
       "    <tr>\n",
       "      <th>2</th>\n",
       "      <td>38</td>\n",
       "      <td>Private</td>\n",
       "      <td>215646</td>\n",
       "      <td>HS-grad</td>\n",
       "      <td>9</td>\n",
       "      <td>Divorced</td>\n",
       "      <td>Handlers-cleaners</td>\n",
       "      <td>Not-in-family</td>\n",
       "      <td>White</td>\n",
       "      <td>Male</td>\n",
       "      <td>0</td>\n",
       "      <td>0</td>\n",
       "      <td>40</td>\n",
       "      <td>United-States</td>\n",
       "      <td>&lt;=50K</td>\n",
       "    </tr>\n",
       "    <tr>\n",
       "      <th>3</th>\n",
       "      <td>53</td>\n",
       "      <td>Private</td>\n",
       "      <td>234721</td>\n",
       "      <td>11th</td>\n",
       "      <td>7</td>\n",
       "      <td>Married-civ-spouse</td>\n",
       "      <td>Handlers-cleaners</td>\n",
       "      <td>Husband</td>\n",
       "      <td>Black</td>\n",
       "      <td>Male</td>\n",
       "      <td>0</td>\n",
       "      <td>0</td>\n",
       "      <td>40</td>\n",
       "      <td>United-States</td>\n",
       "      <td>&lt;=50K</td>\n",
       "    </tr>\n",
       "    <tr>\n",
       "      <th>4</th>\n",
       "      <td>28</td>\n",
       "      <td>Private</td>\n",
       "      <td>338409</td>\n",
       "      <td>Bachelors</td>\n",
       "      <td>13</td>\n",
       "      <td>Married-civ-spouse</td>\n",
       "      <td>Prof-specialty</td>\n",
       "      <td>Wife</td>\n",
       "      <td>Black</td>\n",
       "      <td>Female</td>\n",
       "      <td>0</td>\n",
       "      <td>0</td>\n",
       "      <td>40</td>\n",
       "      <td>Cuba</td>\n",
       "      <td>&lt;=50K</td>\n",
       "    </tr>\n",
       "  </tbody>\n",
       "</table>\n",
       "</div>"
      ],
      "text/plain": [
       "   age         workclass  fnlwgt  education  education-num  \\\n",
       "0   39         State-gov   77516  Bachelors             13   \n",
       "1   50  Self-emp-not-inc   83311  Bachelors             13   \n",
       "2   38           Private  215646    HS-grad              9   \n",
       "3   53           Private  234721       11th              7   \n",
       "4   28           Private  338409  Bachelors             13   \n",
       "\n",
       "       marital-status         occupation   relationship   race     sex  \\\n",
       "0       Never-married       Adm-clerical  Not-in-family  White    Male   \n",
       "1  Married-civ-spouse    Exec-managerial        Husband  White    Male   \n",
       "2            Divorced  Handlers-cleaners  Not-in-family  White    Male   \n",
       "3  Married-civ-spouse  Handlers-cleaners        Husband  Black    Male   \n",
       "4  Married-civ-spouse     Prof-specialty           Wife  Black  Female   \n",
       "\n",
       "   capital-gain  capital-loss  hours-per-week native-country salary  \n",
       "0          2174             0              40  United-States  <=50K  \n",
       "1             0             0              13  United-States  <=50K  \n",
       "2             0             0              40  United-States  <=50K  \n",
       "3             0             0              40  United-States  <=50K  \n",
       "4             0             0              40           Cuba  <=50K  "
      ]
     },
     "execution_count": 121,
     "metadata": {},
     "output_type": "execute_result"
    }
   ],
   "source": [
    "data = pd.read_csv('../../data/adult.data.csv')\n",
    "data.head()"
   ]
  },
  {
   "cell_type": "markdown",
   "metadata": {},
   "source": [
    "**1. Сколько мужчин и женщин (признак *sex*) представлено в этом наборе данных?**"
   ]
  },
  {
   "cell_type": "code",
   "execution_count": 122,
   "metadata": {},
   "outputs": [
    {
     "data": {
      "text/plain": [
       "Male      21790\n",
       "Female    10771\n",
       "Name: sex, dtype: int64"
      ]
     },
     "execution_count": 122,
     "metadata": {},
     "output_type": "execute_result"
    }
   ],
   "source": [
    "# Ваш код здесь\n",
    "data['sex'].value_counts()"
   ]
  },
  {
   "cell_type": "markdown",
   "metadata": {},
   "source": [
    "**2. Каков средний возраст (признак *age*) женщин?**"
   ]
  },
  {
   "cell_type": "code",
   "execution_count": 123,
   "metadata": {},
   "outputs": [
    {
     "data": {
      "text/plain": [
       "36.85823043357163"
      ]
     },
     "execution_count": 123,
     "metadata": {},
     "output_type": "execute_result"
    }
   ],
   "source": [
    "# Ваш код здесь\n",
    "data[data['sex'] == 'Female']['age'].mean()"
   ]
  },
  {
   "cell_type": "markdown",
   "metadata": {},
   "source": [
    "**3. Какова доля граждан Германии (признак *native-country*)?**"
   ]
  },
  {
   "cell_type": "code",
   "execution_count": 124,
   "metadata": {},
   "outputs": [
    {
     "data": {
      "text/plain": [
       "0.004207487485028101"
      ]
     },
     "execution_count": 124,
     "metadata": {},
     "output_type": "execute_result"
    }
   ],
   "source": [
    "# Ваш код здесь\n",
    "(data['native-country'] == \"Germany\").sum()/data.shape[0]"
   ]
  },
  {
   "cell_type": "markdown",
   "metadata": {},
   "source": [
    "**4-5. Каковы средние значения и среднеквадратичные отклонения возраста тех, кто получает более 50K в год (признак *salary*) и тех, кто получает менее 50K в год? **"
   ]
  },
  {
   "cell_type": "code",
   "execution_count": 125,
   "metadata": {},
   "outputs": [
    {
     "name": "stdout",
     "output_type": "stream",
     "text": [
      "<=50K: mean = 36.78373786407767, std = 14.020088490824813\n",
      ">50K: mean = 44.24984058155847, std = 10.51902771985177\n"
     ]
    }
   ],
   "source": [
    "# Ваш код здесь\n",
    "ctg1 = data[data['salary'] == '<=50K']['age']\n",
    "ctg2 = data[data['salary'] == '>50K']['age']\n",
    "print('<=50K: mean = ' + str(ctg1.mean()) + ', std = ' + str(ctg1.std()))\n",
    "print('>50K: mean = ' + str(ctg2.mean()) + ', std = ' + str(ctg2.std()))"
   ]
  },
  {
   "cell_type": "markdown",
   "metadata": {},
   "source": [
    "**6. Правда ли, что люди, которые получают больше 50k, имеют как минимум высшее образование? (признак *education – Bachelors, Prof-school, Assoc-acdm, Assoc-voc, Masters* или *Doctorate*)**"
   ]
  },
  {
   "cell_type": "code",
   "execution_count": 126,
   "metadata": {},
   "outputs": [
    {
     "data": {
      "text/plain": [
       "array(['HS-grad', 'Masters', 'Bachelors', 'Some-college', 'Assoc-voc',\n",
       "       'Doctorate', 'Prof-school', 'Assoc-acdm', '7th-8th', '12th',\n",
       "       '10th', '11th', '9th', '5th-6th', '1st-4th'], dtype=object)"
      ]
     },
     "execution_count": 126,
     "metadata": {},
     "output_type": "execute_result"
    }
   ],
   "source": [
    "# Ваш код здесь\n",
    "data.loc[data['salary'] == '>50K', 'education'].unique() #No"
   ]
  },
  {
   "cell_type": "markdown",
   "metadata": {},
   "source": [
    "**7. Выведите статистику возраста для каждой расы (признак *race*) и каждого пола. Используйте *groupby* и *describe*. Найдите таким образом максимальный возраст мужчин расы *Amer-Indian-Eskimo*.**"
   ]
  },
  {
   "cell_type": "code",
   "execution_count": 127,
   "metadata": {},
   "outputs": [
    {
     "name": "stdout",
     "output_type": "stream",
     "text": [
      "Race: Amer-Indian-Eskimo, sex: Female\n",
      "              age         fnlwgt  education-num  capital-gain  capital-loss  \\\n",
      "count  119.000000     119.000000     119.000000    119.000000    119.000000   \n",
      "mean    37.117647  112950.731092       9.697479    544.605042     14.462185   \n",
      "std     13.114991   93207.974077       2.334540   2451.591587    157.763811   \n",
      "min     17.000000   12285.000000       2.000000      0.000000      0.000000   \n",
      "25%     27.000000   31387.000000       9.000000      0.000000      0.000000   \n",
      "50%     36.000000   87950.000000      10.000000      0.000000      0.000000   \n",
      "75%     46.000000  163027.500000      11.000000      0.000000      0.000000   \n",
      "max     80.000000  445168.000000      16.000000  15024.000000   1721.000000   \n",
      "\n",
      "       hours-per-week  \n",
      "count      119.000000  \n",
      "mean        36.579832  \n",
      "std         11.046509  \n",
      "min          4.000000  \n",
      "25%         35.000000  \n",
      "50%         40.000000  \n",
      "75%         40.000000  \n",
      "max         84.000000  \n",
      "Race: Amer-Indian-Eskimo, sex: Male\n",
      "              age         fnlwgt  education-num  capital-gain  capital-loss  \\\n",
      "count  192.000000     192.000000     192.000000    192.000000    192.000000   \n",
      "mean    37.208333  125715.364583       9.072917    675.260417     46.395833   \n",
      "std     12.049563   85063.251595       2.268587   2929.745443    286.562584   \n",
      "min     17.000000   13769.000000       2.000000      0.000000      0.000000   \n",
      "25%     28.000000   48197.750000       9.000000      0.000000      0.000000   \n",
      "50%     35.000000  113091.000000       9.000000      0.000000      0.000000   \n",
      "75%     45.000000  182656.000000      10.000000      0.000000      0.000000   \n",
      "max     82.000000  356015.000000      16.000000  27828.000000   1980.000000   \n",
      "\n",
      "       hours-per-week  \n",
      "count      192.000000  \n",
      "mean        42.197917  \n",
      "std         11.596280  \n",
      "min          3.000000  \n",
      "25%         40.000000  \n",
      "50%         40.000000  \n",
      "75%         45.000000  \n",
      "max         84.000000  \n",
      "Race: Asian-Pac-Islander, sex: Female\n",
      "              age         fnlwgt  education-num  capital-gain  capital-loss  \\\n",
      "count  346.000000     346.000000     346.000000    346.000000    346.000000   \n",
      "mean    35.089595  147452.075145      10.390173    778.436416     50.852601   \n",
      "std     12.300845   76401.627757       2.796647   7675.228631    296.529225   \n",
      "min     17.000000   19914.000000       1.000000      0.000000      0.000000   \n",
      "25%     25.000000   86879.250000       9.000000      0.000000      0.000000   \n",
      "50%     33.000000  131986.000000      10.000000      0.000000      0.000000   \n",
      "75%     43.750000  175705.750000      13.000000      0.000000      0.000000   \n",
      "max     75.000000  379046.000000      15.000000  99999.000000   2258.000000   \n",
      "\n",
      "       hours-per-week  \n",
      "count      346.000000  \n",
      "mean        37.439306  \n",
      "std         12.479459  \n",
      "min          1.000000  \n",
      "25%         35.000000  \n",
      "50%         40.000000  \n",
      "75%         40.000000  \n",
      "max         99.000000  \n",
      "Race: Asian-Pac-Islander, sex: Male\n",
      "              age         fnlwgt  education-num  capital-gain  capital-loss  \\\n",
      "count  693.000000     693.000000     693.000000    693.000000    693.000000   \n",
      "mean    39.073593  166175.865801      11.245310   1827.813853    120.373737   \n",
      "std     12.883944   88552.952600       2.777463  10947.525528    472.917697   \n",
      "min     18.000000   14878.000000       1.000000      0.000000      0.000000   \n",
      "25%     29.000000   98350.000000       9.000000      0.000000      0.000000   \n",
      "50%     37.000000  147719.000000      11.000000      0.000000      0.000000   \n",
      "75%     46.000000  200117.000000      13.000000      0.000000      0.000000   \n",
      "max     90.000000  506329.000000      16.000000  99999.000000   2457.000000   \n",
      "\n",
      "       hours-per-week  \n",
      "count      693.000000  \n",
      "mean        41.468975  \n",
      "std         12.387563  \n",
      "min          1.000000  \n",
      "25%         40.000000  \n",
      "50%         40.000000  \n",
      "75%         45.000000  \n",
      "max         99.000000  \n",
      "Race: Black, sex: Female\n",
      "               age         fnlwgt  education-num  capital-gain  capital-loss  \\\n",
      "count  1555.000000    1555.000000    1555.000000   1555.000000   1555.000000   \n",
      "mean     37.854019  212971.387781       9.549839    516.593569     45.450804   \n",
      "std      12.637197  109971.263983       2.207815   5312.749129    299.099591   \n",
      "min      17.000000   19752.000000       1.000000      0.000000      0.000000   \n",
      "25%      28.000000  142666.500000       9.000000      0.000000      0.000000   \n",
      "50%      37.000000  193553.000000       9.000000      0.000000      0.000000   \n",
      "75%      46.000000  253759.000000      10.000000      0.000000      0.000000   \n",
      "max      90.000000  930948.000000      16.000000  99999.000000   4356.000000   \n",
      "\n",
      "       hours-per-week  \n",
      "count     1555.000000  \n",
      "mean        36.834084  \n",
      "std          9.419960  \n",
      "min          2.000000  \n",
      "25%         35.000000  \n",
      "50%         40.000000  \n",
      "75%         40.000000  \n",
      "max         99.000000  \n",
      "Race: Black, sex: Male\n",
      "               age        fnlwgt  education-num  capital-gain  capital-loss  \\\n",
      "count  1569.000000  1.569000e+03    1569.000000   1569.000000   1569.000000   \n",
      "mean     37.682600  2.429206e+05       9.423199    702.454430     75.186106   \n",
      "std      12.882612  1.341460e+05       2.382841   4962.113183    370.976546   \n",
      "min      17.000000  2.185600e+04       1.000000      0.000000      0.000000   \n",
      "25%      27.000000  1.564100e+05       9.000000      0.000000      0.000000   \n",
      "50%      36.000000  2.211960e+05       9.000000      0.000000      0.000000   \n",
      "75%      46.000000  2.986010e+05      10.000000      0.000000      0.000000   \n",
      "max      90.000000  1.268339e+06      16.000000  99999.000000   2824.000000   \n",
      "\n",
      "       hours-per-week  \n",
      "count     1569.000000  \n",
      "mean        39.997451  \n",
      "std         10.909413  \n",
      "min          1.000000  \n",
      "25%         40.000000  \n",
      "50%         40.000000  \n",
      "75%         40.000000  \n",
      "max         99.000000  \n",
      "Race: Other, sex: Female\n",
      "              age         fnlwgt  education-num  capital-gain  capital-loss  \\\n",
      "count  109.000000     109.000000     109.000000    109.000000    109.000000   \n",
      "mean    31.678899  172519.642202       8.899083    254.669725     36.284404   \n",
      "std     11.631599   77766.666801       3.027482   1317.326460    231.796929   \n",
      "min     17.000000   24562.000000       2.000000      0.000000      0.000000   \n",
      "25%     23.000000  119890.000000       7.000000      0.000000      0.000000   \n",
      "50%     29.000000  171199.000000       9.000000      0.000000      0.000000   \n",
      "75%     39.000000  219441.000000      10.000000      0.000000      0.000000   \n",
      "max     74.000000  388741.000000      14.000000   7688.000000   1740.000000   \n",
      "\n",
      "       hours-per-week  \n",
      "count      109.000000  \n",
      "mean        35.926606  \n",
      "std         10.300761  \n",
      "min          6.000000  \n",
      "25%         30.000000  \n",
      "50%         40.000000  \n",
      "75%         40.000000  \n",
      "max         65.000000  \n",
      "Race: Other, sex: Male\n",
      "              age         fnlwgt  education-num  capital-gain  capital-loss  \\\n",
      "count  162.000000     162.000000     162.000000    162.000000    162.000000   \n",
      "mean    34.654321  213679.104938       8.802469   1392.185185     77.746914   \n",
      "std     11.355531   92187.362738       3.361897  11093.711595    370.986720   \n",
      "min     17.000000   25610.000000       1.000000      0.000000      0.000000   \n",
      "25%     26.000000  150726.750000       8.000000      0.000000      0.000000   \n",
      "50%     32.000000  208516.500000       9.000000      0.000000      0.000000   \n",
      "75%     42.000000  253334.750000      10.000000      0.000000      0.000000   \n",
      "max     77.000000  481175.000000      16.000000  99999.000000   2179.000000   \n",
      "\n",
      "       hours-per-week  \n",
      "count      162.000000  \n",
      "mean        41.851852  \n",
      "std         11.084779  \n",
      "min          5.000000  \n",
      "25%         40.000000  \n",
      "50%         40.000000  \n",
      "75%         40.000000  \n",
      "max         98.000000  \n",
      "Race: White, sex: Female\n",
      "               age        fnlwgt  education-num  capital-gain  capital-loss  \\\n",
      "count  8642.000000  8.642000e+03    8642.000000   8642.000000   8642.000000   \n",
      "mean     36.811618  1.835500e+05      10.127980    573.610391     65.390535   \n",
      "std      14.329093  1.017103e+05       2.368115   4763.131649    352.330817   \n",
      "min      17.000000  1.939500e+04       1.000000      0.000000      0.000000   \n",
      "25%      25.000000  1.159148e+05       9.000000      0.000000      0.000000   \n",
      "50%      35.000000  1.758105e+05      10.000000      0.000000      0.000000   \n",
      "75%      46.000000  2.248365e+05      12.000000      0.000000      0.000000   \n",
      "max      90.000000  1.484705e+06      16.000000  99999.000000   4356.000000   \n",
      "\n",
      "       hours-per-week  \n",
      "count     8642.000000  \n",
      "mean        36.296691  \n",
      "std         12.190951  \n",
      "min          1.000000  \n",
      "25%         30.000000  \n",
      "50%         40.000000  \n",
      "75%         40.000000  \n",
      "max         99.000000  \n",
      "Race: White, sex: Male\n",
      "                age        fnlwgt  education-num  capital-gain  capital-loss  \\\n",
      "count  19174.000000  1.917400e+04   19174.000000  19174.000000  19174.000000   \n",
      "mean      39.652498  1.889874e+05      10.138521   1368.674455    102.261343   \n",
      "std       13.436029  1.037146e+05       2.656464   8442.830669    434.156936   \n",
      "min       17.000000  1.882700e+04       1.000000      0.000000      0.000000   \n",
      "25%       29.000000  1.173810e+05       9.000000      0.000000      0.000000   \n",
      "50%       38.000000  1.786625e+05      10.000000      0.000000      0.000000   \n",
      "75%       49.000000  2.368588e+05      13.000000      0.000000      0.000000   \n",
      "max       90.000000  1.455435e+06      16.000000  99999.000000   3770.000000   \n",
      "\n",
      "       hours-per-week  \n",
      "count    19174.000000  \n",
      "mean        42.668822  \n",
      "std         12.194633  \n",
      "min          1.000000  \n",
      "25%         40.000000  \n",
      "50%         40.000000  \n",
      "75%         50.000000  \n",
      "max         99.000000  \n"
     ]
    }
   ],
   "source": [
    "# Ваш код здесь\n",
    "for (race, sex), sub_df in data.groupby(['race', 'sex']):\n",
    "    print('Race: ' + race + ', sex: ' + sex)\n",
    "    print(sub_df.describe())"
   ]
  },
  {
   "cell_type": "markdown",
   "metadata": {},
   "source": [
    "**8. Среди кого больше доля зарабатывающих много (>50K): среди женатых или холостых мужчин (признак *marital-status*)? Женатыми считаем тех, у кого *marital-status* начинается с *Married* (Married-civ-spouse, Married-spouse-absent или Married-AF-spouse), остальных считаем холостыми.**"
   ]
  },
  {
   "cell_type": "code",
   "execution_count": 131,
   "metadata": {},
   "outputs": [
    {
     "name": "stdout",
     "output_type": "stream",
     "text": [
      "married >50K: 5965\n",
      "not married >50K: 697\n",
      "\n",
      "<=50K: Never-married            10192\n",
      "Married-civ-spouse        8284\n",
      "Divorced                  3980\n",
      "Separated                  959\n",
      "Widowed                    908\n",
      "Married-spouse-absent      384\n",
      "Married-AF-spouse           13\n",
      "Name: marital-status, dtype: int64\n"
     ]
    }
   ],
   "source": [
    "# Ваш код здес\n",
    "married = 0\n",
    "not_married = 0\n",
    "for status in data.loc[(data['salary'] == '>50K') & (data['sex'] == 'Male'), 'marital-status']:\n",
    "    if 'Married' in status:\n",
    "        married+=1\n",
    "    else:\n",
    "        not_married+=1\n",
    "print('married >50K: ' + str(married))\n",
    "print('not married >50K: ' + str(not_married) + '\\n')\n",
    "print('<=50K: ' + str(data[data['salary'] == '<=50K']['marital-status'].value_counts()))"
   ]
  },
  {
   "cell_type": "markdown",
   "metadata": {},
   "source": [
    "**9. Какое максимальное число часов человек работает в неделю (признак *hours-per-week*)? Сколько людей работают такое количество часов и каков среди них процент зарабатывающих много?**"
   ]
  },
  {
   "cell_type": "code",
   "execution_count": 129,
   "metadata": {},
   "outputs": [
    {
     "name": "stdout",
     "output_type": "stream",
     "text": [
      "max: 99\n",
      "# of persons worked max hours = 85\n",
      "ratio: 0.29411764705882354\n"
     ]
    }
   ],
   "source": [
    "# Ваш код здесь\n",
    "max = data['hours-per-week'].max()\n",
    "print('max: ' + str(max))\n",
    "such_persons = (data['hours-per-week'] == max).sum()\n",
    "print('# of persons worked max hours = ' + str(such_persons))\n",
    "max_sal_and_hrs = ((data['hours-per-week'] == max) & (data['salary'] == '>50K')).sum()\n",
    "print('ratio: ' + str(max_sal_and_hrs/such_persons))"
   ]
  },
  {
   "cell_type": "markdown",
   "metadata": {},
   "source": [
    "**10. Посчитайте среднее время работы (*hours-per-week*) зарабатывающих мало и много (*salary*) для каждой страны (*native-country*).**"
   ]
  },
  {
   "cell_type": "code",
   "execution_count": 130,
   "metadata": {},
   "outputs": [
    {
     "name": "stdout",
     "output_type": "stream",
     "text": [
      "?\n",
      ">50K: 45.54794520547945\n",
      "<=50K: 40.16475972540046\n",
      "\n",
      "Cambodia\n",
      ">50K: 40.0\n",
      "<=50K: 41.416666666666664\n",
      "\n",
      "Canada\n",
      ">50K: 45.64102564102564\n",
      "<=50K: 37.91463414634146\n",
      "\n",
      "China\n",
      ">50K: 38.9\n",
      "<=50K: 37.38181818181818\n",
      "\n",
      "Columbia\n",
      ">50K: 50.0\n",
      "<=50K: 38.68421052631579\n",
      "\n",
      "Cuba\n",
      ">50K: 42.44\n",
      "<=50K: 37.98571428571429\n",
      "\n",
      "Dominican-Republic\n",
      ">50K: 47.0\n",
      "<=50K: 42.338235294117645\n",
      "\n",
      "Ecuador\n",
      ">50K: 48.75\n",
      "<=50K: 38.041666666666664\n",
      "\n",
      "El-Salvador\n",
      ">50K: 45.0\n",
      "<=50K: 36.03092783505155\n",
      "\n",
      "England\n",
      ">50K: 44.53333333333333\n",
      "<=50K: 40.483333333333334\n",
      "\n",
      "France\n",
      ">50K: 50.75\n",
      "<=50K: 41.05882352941177\n",
      "\n",
      "Germany\n",
      ">50K: 44.97727272727273\n",
      "<=50K: 39.13978494623656\n",
      "\n",
      "Greece\n",
      ">50K: 50.625\n",
      "<=50K: 41.80952380952381\n",
      "\n",
      "Guatemala\n",
      ">50K: 36.666666666666664\n",
      "<=50K: 39.36065573770492\n",
      "\n",
      "Haiti\n",
      ">50K: 42.75\n",
      "<=50K: 36.325\n",
      "\n",
      "Holand-Netherlands\n",
      ">50K: nan\n",
      "<=50K: 40.0\n",
      "\n",
      "Honduras\n",
      ">50K: 60.0\n",
      "<=50K: 34.333333333333336\n",
      "\n",
      "Hong\n",
      ">50K: 45.0\n",
      "<=50K: 39.142857142857146\n",
      "\n",
      "Hungary\n",
      ">50K: 50.0\n",
      "<=50K: 31.3\n",
      "\n",
      "India\n",
      ">50K: 46.475\n",
      "<=50K: 38.233333333333334\n",
      "\n",
      "Iran\n",
      ">50K: 47.5\n",
      "<=50K: 41.44\n",
      "\n",
      "Ireland\n",
      ">50K: 48.0\n",
      "<=50K: 40.94736842105263\n",
      "\n",
      "Italy\n",
      ">50K: 45.4\n",
      "<=50K: 39.625\n",
      "\n",
      "Jamaica\n",
      ">50K: 41.1\n",
      "<=50K: 38.23943661971831\n",
      "\n",
      "Japan\n",
      ">50K: 47.958333333333336\n",
      "<=50K: 41.0\n",
      "\n",
      "Laos\n",
      ">50K: 40.0\n",
      "<=50K: 40.375\n",
      "\n",
      "Mexico\n",
      ">50K: 46.57575757575758\n",
      "<=50K: 40.00327868852459\n",
      "\n",
      "Nicaragua\n",
      ">50K: 37.5\n",
      "<=50K: 36.09375\n",
      "\n",
      "Outlying-US(Guam-USVI-etc)\n",
      ">50K: nan\n",
      "<=50K: 41.857142857142854\n",
      "\n",
      "Peru\n",
      ">50K: 40.0\n",
      "<=50K: 35.06896551724138\n",
      "\n",
      "Philippines\n",
      ">50K: 43.032786885245905\n",
      "<=50K: 38.065693430656935\n",
      "\n",
      "Poland\n",
      ">50K: 39.0\n",
      "<=50K: 38.166666666666664\n",
      "\n",
      "Portugal\n",
      ">50K: 41.5\n",
      "<=50K: 41.93939393939394\n",
      "\n",
      "Puerto-Rico\n",
      ">50K: 39.416666666666664\n",
      "<=50K: 38.470588235294116\n",
      "\n",
      "Scotland\n",
      ">50K: 46.666666666666664\n",
      "<=50K: 39.44444444444444\n",
      "\n",
      "South\n",
      ">50K: 51.4375\n",
      "<=50K: 40.15625\n",
      "\n",
      "Taiwan\n",
      ">50K: 46.8\n",
      "<=50K: 33.774193548387096\n",
      "\n",
      "Thailand\n",
      ">50K: 58.333333333333336\n",
      "<=50K: 42.86666666666667\n",
      "\n",
      "Trinadad&Tobago\n",
      ">50K: 40.0\n",
      "<=50K: 37.05882352941177\n",
      "\n",
      "United-States\n",
      ">50K: 45.50536884674383\n",
      "<=50K: 38.79912723305605\n",
      "\n",
      "Vietnam\n",
      ">50K: 39.2\n",
      "<=50K: 37.193548387096776\n",
      "\n",
      "Yugoslavia\n",
      ">50K: 49.5\n",
      "<=50K: 41.6\n",
      "\n"
     ]
    }
   ],
   "source": [
    "###### Ваш код здесь\n",
    "for country, sub_df in data.groupby('native-country'):\n",
    "    print(country)\n",
    "    print('>50K: ' + str(sub_df[sub_df['salary'] == '>50K']['hours-per-week'].mean()))\n",
    "    print('<=50K: ' + str(sub_df[sub_df['salary'] == '<=50K']['hours-per-week'].mean()) + '\\n')\n",
    "    "
   ]
  }
 ],
 "metadata": {
  "anaconda-cloud": {},
  "kernelspec": {
   "display_name": "Python 3",
   "language": "python",
   "name": "python3"
  },
  "language_info": {
   "codemirror_mode": {
    "name": "ipython",
    "version": 3
   },
   "file_extension": ".py",
   "mimetype": "text/x-python",
   "name": "python",
   "nbconvert_exporter": "python",
   "pygments_lexer": "ipython3",
   "version": "3.7.3"
  }
 },
 "nbformat": 4,
 "nbformat_minor": 1
}
